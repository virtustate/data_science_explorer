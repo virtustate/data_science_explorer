{
 "cells": [
  {
   "cell_type": "code",
   "execution_count": 3,
   "id": "7e59b6b6-11c6-44ab-872d-946d3f3e8898",
   "metadata": {},
   "outputs": [
    {
     "data": {
      "application/vnd.jupyter.widget-view+json": {
       "model_id": "b8e686be16e849a5a9c1c0be0f66f5e7",
       "version_major": 2,
       "version_minor": 0
      },
      "text/plain": [
       "MitoWidget(analysis_name='UUID-f936506a-e5c6-48d1-807e-e65466d58d27', code_json='{\"imports\": \"from mitosheet i…"
      ]
     },
     "metadata": {},
     "output_type": "display_data"
    }
   ],
   "source": [
    "import mitosheet\n",
    "mitosheet.sheet()"
   ]
  },
  {
   "cell_type": "code",
   "execution_count": null,
   "id": "5cd7d828-5cf4-47c1-a22f-28b004c34be9",
   "metadata": {},
   "outputs": [
    {
     "name": "stderr",
     "output_type": "stream",
     "text": [
      "generated new fontManager\n"
     ]
    }
   ],
   "source": [
    "# MITO CODE START (DO NOT EDIT)\n",
    "\n",
    "from mitosheet import * # Import necessary functions from Mito\n",
    "register_analysis('UUID-f936506a-e5c6-48d1-807e-e65466d58d27') # Let Mito know which analysis is being run\n",
    "\n",
    "# Imported iris.csv\n",
    "import pandas as pd\n",
    "iris_csv = pd.read_csv(r'iris.csv')\n",
    "iris_csv.rename(columns={\"sepal length\": \"sepal_length\", \"sepal width\": \"sepal_width\", \"petal length\": \"petal_length\", \"petal width\": \"petal_width\"}, inplace=True)\n",
    "\n",
    "# Filtered petal_width in iris_csv\n",
    "iris_csv = iris_csv[iris_csv['petal_width'] == 0.2]\n",
    "iris_csv = iris_csv.reset_index(drop=True)\n",
    "\n",
    "  \n",
    "# MITO CODE END (DO NOT EDIT)"
   ]
  },
  {
   "cell_type": "code",
   "execution_count": null,
   "id": "c4f3f2a3-6d13-4dd1-85ca-aa33b21d86d9",
   "metadata": {},
   "outputs": [],
   "source": []
  }
 ],
 "metadata": {
  "kernelspec": {
   "display_name": "Python 3 (ipykernel)",
   "language": "python",
   "name": "python3"
  },
  "language_info": {
   "codemirror_mode": {
    "name": "ipython",
    "version": 3
   },
   "file_extension": ".py",
   "mimetype": "text/x-python",
   "name": "python",
   "nbconvert_exporter": "python",
   "pygments_lexer": "ipython3",
   "version": "3.9.6"
  }
 },
 "nbformat": 4,
 "nbformat_minor": 5
}
