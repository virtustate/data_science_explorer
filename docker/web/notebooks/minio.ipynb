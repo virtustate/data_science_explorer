{
 "cells": [
  {
   "cell_type": "code",
   "execution_count": 1,
   "id": "c06af039-1230-421d-9edc-0261f39b773d",
   "metadata": {},
   "outputs": [],
   "source": [
    "import pandas\n",
    "import minio\n",
    "import sys\n",
    "sys.path.append('../')\n",
    "import secret_endpoints"
   ]
  },
  {
   "cell_type": "code",
   "execution_count": 2,
   "id": "55f9fa80-b420-410e-8fec-2ce77855ddee",
   "metadata": {},
   "outputs": [],
   "source": [
    "def get_s3_client(endpoint):\n",
    "    return minio.Minio(endpoint['server'], region=endpoint['region'], secure=endpoint['secure'],\n",
    "                access_key=endpoint['access_key'], secret_key=endpoint['secret_key'])"
   ]
  },
  {
   "cell_type": "code",
   "execution_count": 9,
   "id": "51f542f3-59b5-4409-b48f-f2d45de6c559",
   "metadata": {},
   "outputs": [
    {
     "data": {
      "text/plain": [
       "<minio.helpers.ObjectWriteResult at 0x7f4d92ee6250>"
      ]
     },
     "execution_count": 9,
     "metadata": {},
     "output_type": "execute_result"
    }
   ],
   "source": [
    "client = get_s3_client(secret_endpoints.endpoints['s3_minio'])\n",
    "client.fput_object('test', 'new_test.csv', 'housing.csv')\n",
    "client = get_s3_client(secret_endpoints.endpoints['s3_aws'])\n",
    "client.fput_object('ssk-minio', 'new_test.csv', 'housing.csv')        "
   ]
  },
  {
   "cell_type": "code",
   "execution_count": 10,
   "id": "86c6f2cf-dfed-4714-ad49-b4ef7ff361b8",
   "metadata": {},
   "outputs": [],
   "source": [
    "client.remove_object('ssk-minio', 'new_test.csv')"
   ]
  },
  {
   "cell_type": "code",
   "execution_count": 6,
   "id": "672b9655-8d25-45ac-964f-5d707e7d81a0",
   "metadata": {},
   "outputs": [
    {
     "name": "stdout",
     "output_type": "stream",
     "text": [
      "['s3_aws', 's3_minio']\n"
     ]
    }
   ],
   "source": [
    "endpoints = secret_endpoints.endpoints\n",
    "s3_endpoints = [key for key in endpoints.keys() if endpoints[key]['type'] == 's3']\n",
    "print(s3_endpoints)"
   ]
  },
  {
   "cell_type": "code",
   "execution_count": null,
   "id": "45e35583-15f8-4f34-aa1a-acc82a87758c",
   "metadata": {},
   "outputs": [],
   "source": []
  }
 ],
 "metadata": {
  "kernelspec": {
   "display_name": "Python 3 (ipykernel)",
   "language": "python",
   "name": "python3"
  },
  "language_info": {
   "codemirror_mode": {
    "name": "ipython",
    "version": 3
   },
   "file_extension": ".py",
   "mimetype": "text/x-python",
   "name": "python",
   "nbconvert_exporter": "python",
   "pygments_lexer": "ipython3",
   "version": "3.9.7"
  }
 },
 "nbformat": 4,
 "nbformat_minor": 5
}
